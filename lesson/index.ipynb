{
 "cells": [
  {
   "cell_type": "markdown",
   "id": "ee53ad89-35b6-4e6a-9438-521964ed132c",
   "metadata": {},
   "source": [
    "# Aws Athena"
   ]
  },
  {
   "cell_type": "markdown",
   "id": "db89e935-7111-4b1f-8fc8-451cde515379",
   "metadata": {},
   "source": [
    "### Introduction"
   ]
  },
  {
   "cell_type": "markdown",
   "id": "b998226a-d749-4830-b17a-67561e730e75",
   "metadata": {},
   "source": [
    "In this lesson, we'll see how we can work with AWS athena.  Aws athena is a service that allows us to query our data directly from an s3 bucket.  Let's get started."
   ]
  },
  {
   "cell_type": "markdown",
   "id": "4b70af15-361a-4872-af91-486ae7cbc748",
   "metadata": {},
   "source": [
    "### Benefits of Athena"
   ]
  },
  {
   "cell_type": "markdown",
   "id": "bd166be3-141f-4299-bde8-bbaa75eba631",
   "metadata": {},
   "source": [
    "Athena will allow us to query our S3 data without setting up or running a database like our RDS postgres image.\n",
    "\n",
    "This has some benefits.  Remember with a postgres image in RDS, we have to be careful about keeping this database running, especially if we are not using it very often.  With athena, our data is stored in a file in S3.  Nothing is running until we call the query.\n",
    "\n",
    "Another benefit of athena is that we do not have to set up a traditional schema.  We can query unstructured data with athena.\n",
    "\n",
    "Still, athena has it's downsides.  It doesn't support typical database features like indexing, which is used to speed up our queries.  And with athena, we pay per query, so if running a lot of queries can have the cost add up.  With a service like RDS we pay per the size of the cluster, so the cost can be easier to predict. \n",
    "\n",
    "For these reasons, Athena is typically used for a couple adhoc queries, before moving the data to a database.  Or for some initial searching through unstructured data like log files.  You can read more about the pros and cons of Athena in the resources at the end of this lesson.  For now let's start using it."
   ]
  },
  {
   "cell_type": "markdown",
   "id": "563d1a8d-33b4-482f-b931-7829e410bb0c",
   "metadata": {},
   "source": [
    "### Using athena with S3 "
   ]
  },
  {
   "cell_type": "markdown",
   "id": "1e9ed22c-f030-47c5-aa6a-b66c5c4ec3af",
   "metadata": {},
   "source": [
    "Now athena will allow us to query our Json data directly from S3.  However, to accomplish this, our data needs to be in a specific form -- that looks like the following."
   ]
  },
  {
   "cell_type": "markdown",
   "id": "a8c6c1e2-321e-47eb-94bc-1229ea84dc02",
   "metadata": {},
   "source": [
    "```python\n",
    "{\"song\": \"royals\", \"artist\": \"lorde\"}\n",
    "{\"song\": \"taxman\", \"artist\": \"the beatles\"}\n",
    "{\"song\": \"paint it black\", \"artist\": \"rolling stones\"}\n",
    "```"
   ]
  },
  {
   "cell_type": "markdown",
   "id": "bf5f6406-a330-4f4f-b91f-5029a5ff4825",
   "metadata": {},
   "source": [
    "For our Json to work, each dictionary should be on a separate line in our s3 buckets, there should be no comma between our dictionaries, and we should not have any square brackets at the beginning or end of our list of dictionaries."
   ]
  },
  {
   "cell_type": "markdown",
   "id": "e87b0e3b-6397-4cea-822e-96811d78b781",
   "metadata": {},
   "source": [
    "### Storing our data"
   ]
  },
  {
   "cell_type": "markdown",
   "id": "98dfc60b-b60e-4037-86a6-4b3cd38dd654",
   "metadata": {},
   "source": [
    "If you look at the `src/console.py` and `index.py` files, you can see how we accomplish this.  Looking at the `console.py` file:\n",
    "\n",
    "* We create a new bucket to store our data to query (you'll have to set a unique name).\n",
    "* We retrieve a list of dictionaries with a call to find_receipts. \n",
    "* We then use the `build_in_mem_file`.  The function creates an in memory file (with String.io), and then add each receipt to the file, separating each one with a new line character.  Then call `get_value()` to retrieve the text from that file.\n",
    "* Then if you uncomment the `put_object` method, you'll see that we add this set of dictionaries to a file in our bucket."
   ]
  },
  {
   "cell_type": "markdown",
   "id": "1ce9e25c-ae10-4af9-994c-fd100ff32dd6",
   "metadata": {},
   "source": [
    "We can confirm that this works, by then reading from the bucket."
   ]
  },
  {
   "cell_type": "markdown",
   "id": "1548ded5-22d1-4873-9919-e2819d60ac26",
   "metadata": {},
   "source": [
    "```python3\n",
    "bucket_name = ''\n",
    "object_name = ''\n",
    "obj = s3.get_object(Bucket=bucket, Key=object_name)\n",
    "text = obj['Body'].read()\n",
    "```"
   ]
  },
  {
   "cell_type": "markdown",
   "id": "877ee32d-6926-4025-aa06-45b8a1a37e68",
   "metadata": {},
   "source": [
    "Ok, so now that we have have a bucket and an object to read from, the next step is to create a bucket to write to.  It turns out that athena will be writing the results of our query to an object in a bucket, so let's create that too.  \n",
    "\n",
    "You can see in the `console.py` file, that we have a couple of lines for creating just this bucket."
   ]
  },
  {
   "cell_type": "markdown",
   "id": "f7c066ec-3eee-43b2-9001-646932787ea1",
   "metadata": {},
   "source": [
    "### Setting up Athena"
   ]
  },
  {
   "cell_type": "markdown",
   "id": "424ea677-6146-48ef-b620-5e52aa42e324",
   "metadata": {},
   "source": [
    "Ok, so the next step is to move onto athena."
   ]
  },
  {
   "cell_type": "markdown",
   "id": "b4d99c79-3303-421b-aba3-14c58a083e46",
   "metadata": {},
   "source": [
    "* To do so, first click on the athena resource, and then click on settings where we can specify the results bucket."
   ]
  },
  {
   "cell_type": "markdown",
   "id": "d2475dc1-50fe-4133-81af-5176d3a4bd2a",
   "metadata": {},
   "source": [
    "### Resources\n",
    "\n",
    "[AWS Athena](https://www.sqlshack.com/an-introduction-to-aws-athena/)\n",
    "\n",
    "[Athena pros and cons](https://towardsaws.com/aws-athena-why-is-it-different-than-mysql-93d55fd4a757)"
   ]
  }
 ],
 "metadata": {
  "kernelspec": {
   "display_name": "Python 3 (ipykernel)",
   "language": "python",
   "name": "python3"
  },
  "language_info": {
   "codemirror_mode": {
    "name": "ipython",
    "version": 3
   },
   "file_extension": ".py",
   "mimetype": "text/x-python",
   "name": "python",
   "nbconvert_exporter": "python",
   "pygments_lexer": "ipython3",
   "version": "3.10.10"
  }
 },
 "nbformat": 4,
 "nbformat_minor": 5
}
